{
 "cells": [
  {
   "cell_type": "code",
   "execution_count": 1,
   "id": "3a1cf575-c48a-48e6-9abe-c0ffa5fa7309",
   "metadata": {},
   "outputs": [
    {
     "name": "stderr",
     "output_type": "stream",
     "text": [
      "25/07/30 07:55:13 WARN SparkSession: Using an existing Spark session; only runtime SQL configurations will take effect.\n"
     ]
    }
   ],
   "source": [
    "from pyspark.sql import SparkSession\n",
    "\n",
    "spark = SparkSession.builder \\\n",
    "    .appName(\"Iceberg Spark SQL\") \\\n",
    "    .config(\"spark.sql.extensions\", \"org.apache.iceberg.spark.extensions.IcebergSparkSessionExtensions\") \\\n",
    "    .config(\"spark.sql.catalog.default\", \"org.apache.iceberg.spark.SparkCatalog\") \\\n",
    "    .config(\"spark.sql.catalog.default.catalog-impl\", \"org.apache.iceberg.rest.RESTCatalog\") \\\n",
    "    .config(\"spark.sql.catalog.default.uri\", \"http://iceberg-rest:8181\") \\\n",
    "    .config(\"spark.sql.catalog.default.io-impl\", \"org.apache.iceberg.aws.s3.S3FileIO\") \\\n",
    "    .config(\"spark.sql.catalog.default.s3.endpoint\", \"http://minio:9000\") \\\n",
    "    .config(\"spark.sql.catalog.default.s3.path-style-access\", \"true\") \\\n",
    "    .config(\"spark.sql.catalog.default.s3.access-key-id\", \"admin\") \\\n",
    "    .config(\"spark.sql.catalog.default.s3.secret-access-key\", \"password\") \\\n",
    "    .config(\"spark.sql.catalog.default.warehouse\", \"s3://warehouse/\") \\\n",
    "    .getOrCreate()\n",
    "\n",
    "spark.sparkContext.setLogLevel(\"ERROR\")"
   ]
  },
  {
   "cell_type": "code",
   "execution_count": 2,
   "id": "fc28c724-6e20-4064-b31d-ccedd9211b2d",
   "metadata": {},
   "outputs": [
    {
     "name": "stdout",
     "output_type": "stream",
     "text": [
      "✅ 카탈로그 타입: <class 'pyiceberg.catalog.rest.RestCatalog'>\n",
      "📂 카탈로그 이름: default\n",
      "⚙️ 속성: {'uri': 'http://iceberg-rest:8181', 's3.endpoint': 'http://minio:9000', 's3.access-key-id': 'admin', 's3.secret-access-key': 'password', 'type': 'rest', 'io.impl': 'org.apache.iceberg.aws.s3.S3FileIO'}\n",
      "📁 네임스페이스 목록: [('user_events',)]\n",
      "\n",
      "📋 [('user_events',)] 테이블 목록:\n",
      " - ('user_events', 'keydown_events')\n",
      " - ('user_events', 'mouse_events')\n"
     ]
    }
   ],
   "source": [
    "from pyiceberg.catalog import load_catalog\n",
    "\n",
    "catalog = load_catalog(\"default\")\n",
    "\n",
    "print(\"✅ 카탈로그 타입:\", catalog.__class__)\n",
    "print(\"📂 카탈로그 이름:\", catalog.name)\n",
    "print(\"⚙️ 속성:\", catalog.properties)\n",
    "\n",
    "# 네임스페이스 확인\n",
    "namespaces = catalog.list_namespaces()\n",
    "print(\"📁 네임스페이스 목록:\", namespaces)\n",
    "\n",
    "# 각 네임스페이스의 테이블 목록 출력\n",
    "for ns in namespaces:\n",
    "    print(f\"\\n📋 [{ns}] 테이블 목록:\")\n",
    "    for table_name in catalog.list_tables(namespace=ns):\n",
    "        print(\" -\", table_name)"
   ]
  },
  {
   "cell_type": "code",
   "execution_count": 4,
   "id": "85f5ecfc-d3c7-4470-ac15-a8a98147a28b",
   "metadata": {},
   "outputs": [
    {
     "name": "stdout",
     "output_type": "stream",
     "text": [
      "📊 Spark SQL 테이블 목록:\n",
      "+-----------+--------------+-----------+\n",
      "|  namespace|     tableName|isTemporary|\n",
      "+-----------+--------------+-----------+\n",
      "|user_events|keydown_events|      false|\n",
      "|user_events|  mouse_events|      false|\n",
      "+-----------+--------------+-----------+\n",
      "\n",
      "+--------+\n",
      "|count(1)|\n",
      "+--------+\n",
      "|      83|\n",
      "+--------+\n",
      "\n",
      "+------+-------+-------+--------+------+-------+-------+-------+-----+-----+-------+-------+-------------+--------------------+----------+---+--------------------+------------+-------+---------+---------+---------+--------------------+\n",
      "|altKey|ctrlKey|metaKey|shiftKey|button|buttons|clientX|clientY|pageX|pageY|screenX|screenY|relatedTarget|           timestamp|event_type| id|            canvasId|     canvasX|canvasY|movementX|movementY|isTrusted|               shape|\n",
      "+------+-------+-------+--------+------+-------+-------+-------+-----+-----+-------+-------+-------------+--------------------+----------+---+--------------------+------------+-------+---------+---------+---------+--------------------+\n",
      "| false|  false|  false|   false|     0|      0|   1471|    759| 1471|  759|   2708|    570|             |2025-07-30 07:48:...| mousemove|   |main-annotation-c...|232.50390625|  210.0|     -5.0|    -16.0|     true|{'type': 'circle'...|\n",
      "| false|  false|  false|   false|     0|      0|   1346|    648| 1346|  648|   2625|    496|             |2025-07-30 07:43:...| mousemove|   |main-annotation-c...|107.50390625|   99.0|     18.0|     10.0|     true|{'type': 'rect', ...|\n",
      "| false|  false|  false|   false|     0|      0|   1372|    663| 1372|  663|   2642|    506|             |2025-07-30 07:43:...| mousemove|   |main-annotation-c...|133.50390625|  114.0|     17.0|     10.0|     true|{'type': 'rect', ...|\n",
      "| false|  false|  false|   false|     0|      0|   1426|    710| 1426|  710|   2678|    537|             |2025-07-30 07:43:...| mousemove|   |main-annotation-c...|187.50390625|  161.0|      7.0|      9.0|     true|{'type': 'circle'...|\n",
      "| false|  false|  false|   false|     0|      0|   1432|    717| 1432|  717|   2682|    542|             |2025-07-30 07:43:...| mousemove|   |main-annotation-c...|193.50390625|  168.0|      4.0|      5.0|     true|{'type': 'circle'...|\n",
      "+------+-------+-------+--------+------+-------+-------+-------+-----+-----+-------+-------+-------------+--------------------+----------+---+--------------------+------------+-------+---------+---------+---------+--------------------+\n",
      "\n"
     ]
    }
   ],
   "source": [
    "# Spark SQL로 테이블 목록 확인\n",
    "print(\"📊 Spark SQL 테이블 목록:\")\n",
    "spark.sql(\"SHOW TABLES IN default.user_events\").show()\n",
    "\n",
    "# COUNT 쿼리 실행\n",
    "spark.sql(\"SELECT COUNT(*) FROM default.user_events.mouse_events\").show()\n",
    "\n",
    "# 일부 데이터 조회\n",
    "spark.sql(\"SELECT * FROM default.user_events.mouse_events LIMIT 5\").show()"
   ]
  },
  {
   "cell_type": "code",
   "execution_count": null,
   "id": "dea93f91-9d4c-47d4-99dd-03c262dc6aa3",
   "metadata": {},
   "outputs": [],
   "source": []
  }
 ],
 "metadata": {
  "kernelspec": {
   "display_name": "Python 3 (ipykernel)",
   "language": "python",
   "name": "python3"
  },
  "language_info": {
   "codemirror_mode": {
    "name": "ipython",
    "version": 3
   },
   "file_extension": ".py",
   "mimetype": "text/x-python",
   "name": "python",
   "nbconvert_exporter": "python",
   "pygments_lexer": "ipython3",
   "version": "3.10.16"
  }
 },
 "nbformat": 4,
 "nbformat_minor": 5
}
